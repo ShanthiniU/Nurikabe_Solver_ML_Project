{
  "nbformat": 4,
  "nbformat_minor": 0,
  "metadata": {
    "colab": {
      "provenance": [],
      "authorship_tag": "ABX9TyOPuWUL2j8ioEzMlA/wLtSz",
      "include_colab_link": true
    },
    "kernelspec": {
      "name": "python3",
      "display_name": "Python 3"
    },
    "language_info": {
      "name": "python"
    }
  },
  "cells": [
    {
      "cell_type": "markdown",
      "metadata": {
        "id": "view-in-github",
        "colab_type": "text"
      },
      "source": [
        "<a href=\"https://colab.research.google.com/github/ShanthiniU/Nurikabe_Solver_ML_Project/blob/main/Nurikabe_Solver_ML_Project.ipynb\" target=\"_parent\"><img src=\"https://colab.research.google.com/assets/colab-badge.svg\" alt=\"Open In Colab\"/></a>"
      ]
    },
    {
      "cell_type": "markdown",
      "source": [
        "#**Phase 1: Puzzle Representation and Basic Validation**"
      ],
      "metadata": {
        "id": "vCrO5WqfdoWJ"
      }
    },
    {
      "cell_type": "markdown",
      "source": [
        "##Step 1: Import and Initialize"
      ],
      "metadata": {
        "id": "5FzaAfxIeDH7"
      }
    },
    {
      "cell_type": "code",
      "execution_count": null,
      "metadata": {
        "id": "2gX4723NZVN6"
      },
      "outputs": [],
      "source": [
        "# Import the Numpy library\n",
        "import numpy as np\n",
        "\n",
        "# We'll use these constants to make the code readable\n",
        "UNKNOWN = 0   # Cell state is unknown (not yet solved)\n",
        "WALL = -1      # Black cell (part of the wall)\n",
        "ISLAND = -2    # White cell (part of an island)"
      ]
    },
    {
      "cell_type": "markdown",
      "source": [
        "##Step 2: Representing the Puzzle Grid (5 X 5)"
      ],
      "metadata": {
        "id": "4FTrIIkffDSV"
      }
    },
    {
      "cell_type": "code",
      "source": [
        "# Define the puzzle using a 2D Python List\n",
        "# The grid is 5 rows and 5 columns (5x5)\n",
        "initial_grid_list = [\n",
        "    [UNKNOWN, UNKNOWN, 3, UNKNOWN, UNKNOWN],\n",
        "    [UNKNOWN, UNKNOWN, UNKNOWN, UNKNOWN, 2],\n",
        "    [UNKNOWN, 1, UNKNOWN, UNKNOWN, UNKNOWN],\n",
        "    [UNKNOWN, UNKNOWN, UNKNOWN, UNKNOWN, UNKNOWN],\n",
        "    [4, UNKNOWN, UNKNOWN, UNKNOWN, UNKNOWN]\n",
        "]\n",
        "\n",
        "# Grid dimensions (Rows and Columns)\n",
        "ROWS = len(initial_grid_list)\n",
        "COLS = len(initial_grid_list[0])\n",
        "\n",
        "print(f\"Grid Size: {ROWS} rows x {COLS} columns\")"
      ],
      "metadata": {
        "id": "eTRmqKWgeip0",
        "colab": {
          "base_uri": "https://localhost:8080/"
        },
        "outputId": "d4d5d8cd-d691-4993-aad3-3b3a76e29020"
      },
      "execution_count": null,
      "outputs": [
        {
          "output_type": "stream",
          "name": "stdout",
          "text": [
            "Grid Size: 5 rows x 5 columns\n"
          ]
        }
      ]
    },
    {
      "cell_type": "markdown",
      "source": [
        "##Step 3: Converting to a NumPy Array"
      ],
      "metadata": {
        "id": "DQOpI_uWqz63"
      }
    },
    {
      "cell_type": "code",
      "source": [
        "# Convert the python list to a NumPy array\n",
        "nurikabe_grid = np.array(initial_grid_list)\n",
        "\n",
        "# Nurikabe Grid as a NumPy representation\n",
        "print(\"\\nNumPy Grid Representation:\")\n",
        "print(nurikabe_grid)"
      ],
      "metadata": {
        "colab": {
          "base_uri": "https://localhost:8080/"
        },
        "id": "eTSJsLQmoZee",
        "outputId": "a938a409-0586-467d-97b0-ecf182559ef2"
      },
      "execution_count": null,
      "outputs": [
        {
          "output_type": "stream",
          "name": "stdout",
          "text": [
            "\n",
            "NumPy Grid Representation:\n",
            "[[0 0 3 0 0]\n",
            " [0 0 0 0 2]\n",
            " [0 1 0 0 0]\n",
            " [0 0 0 0 0]\n",
            " [4 0 0 0 0]]\n"
          ]
        }
      ]
    },
    {
      "cell_type": "markdown",
      "source": [
        "##Step 4: Displaying the Puzzle with Symbolic Characters"
      ],
      "metadata": {
        "id": "eL8BrlwxtPDD"
      }
    },
    {
      "cell_type": "markdown",
      "source": [
        "Replacing the number codes with symbolic characters as follows:\n",
        "\n",
        "![image.png](data:image/png;base64,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)"
      ],
      "metadata": {
        "id": "WmChy1qrsful"
      }
    },
    {
      "cell_type": "code",
      "source": [
        "# Function to print the puzzle grid with symbolic characters\n",
        "\n",
        "def display_puzzle(grid):\n",
        "    # We set the cell width to be 3 characters (space + cell + space)\n",
        "    CELL_WIDTH = 3\n",
        "\n",
        "    # Calculate border width: (COLS * CELL_WIDTH) + 6 for the cell borders '|'\n",
        "    border_width = COLS * CELL_WIDTH + 6\n",
        "    print(\"-\" * border_width)\n",
        "\n",
        "    for r in range(ROWS):\n",
        "        row_output = \"|\"\n",
        "        for c in range(COLS):\n",
        "            cell_value = grid[r, c]\n",
        "\n",
        "            if cell_value == WALL:\n",
        "                # -1: Wall/Black Cell\n",
        "                symbol = \" \\u25A0 \" # Black Square (■)\n",
        "            elif cell_value == ISLAND:\n",
        "                # -2: Island/White Cell (not a clue)\n",
        "                symbol = \" \\u25A1 \" # White Square (□)\n",
        "            elif cell_value == UNKNOWN:\n",
        "                # 0: Unknown Cell\n",
        "                symbol = \" ? \"\n",
        "            else:\n",
        "                # Any POSITIVE number (>0) must be a CLUE (1, 2, 3, 4, etc.)\n",
        "                symbol = str(int(cell_value)).center(CELL_WIDTH)\n",
        "\n",
        "            row_output += symbol + \"|\"\n",
        "        print(row_output)\n",
        "        print(\"-\" * border_width)\n",
        "\n",
        "# Re-run your notebook after making these changes!\n",
        "\n",
        "print(\"\\nFormatted Initial Puzzle:\")\n",
        "display_puzzle(nurikabe_grid)"
      ],
      "metadata": {
        "id": "daCCNJgw1KdR",
        "colab": {
          "base_uri": "https://localhost:8080/"
        },
        "outputId": "0307a482-5cc7-42d0-ce53-1968ffe4ff76"
      },
      "execution_count": null,
      "outputs": [
        {
          "output_type": "stream",
          "name": "stdout",
          "text": [
            "\n",
            "Formatted Initial Puzzle:\n",
            "---------------------\n",
            "| ? | ? | 3 | ? | ? |\n",
            "---------------------\n",
            "| ? | ? | ? | ? | 2 |\n",
            "---------------------\n",
            "| ? | 1 | ? | ? | ? |\n",
            "---------------------\n",
            "| ? | ? | ? | ? | ? |\n",
            "---------------------\n",
            "| 4 | ? | ? | ? | ? |\n",
            "---------------------\n"
          ]
        }
      ]
    },
    {
      "cell_type": "markdown",
      "source": [
        "##Step 5: Extracting Clue Coordinates"
      ],
      "metadata": {
        "id": "Fe4v6Pbb-vK4"
      }
    },
    {
      "cell_type": "markdown",
      "source": [
        "NumPy conditional indexing, np.where() is used to find the indices of the cells with values greater than 0."
      ],
      "metadata": {
        "id": "Fm2gTaNx_MxS"
      }
    },
    {
      "cell_type": "code",
      "source": [
        "clue_coords_tuple = np.where(nurikabe_grid > 0)\n",
        "print(clue_coords_tuple)\n",
        "\n",
        "clues = [(int(r), int(c)) for r, c in zip(clue_coords_tuple[0], clue_coords_tuple[1])]\n",
        "print(\"\\nClues in Coordinate form, (r, c):\")\n",
        "print(clues)"
      ],
      "metadata": {
        "colab": {
          "base_uri": "https://localhost:8080/"
        },
        "id": "6qpy8LnM77V9",
        "outputId": "3995dd9c-9e57-4a3a-e28e-63d951960981"
      },
      "execution_count": null,
      "outputs": [
        {
          "output_type": "stream",
          "name": "stdout",
          "text": [
            "(array([0, 1, 2, 4]), array([2, 4, 1, 0]))\n",
            "\n",
            "Clues in Coordinate form, (r, c):\n",
            "[(0, 2), (1, 4), (2, 1), (4, 0)]\n"
          ]
        }
      ]
    },
    {
      "cell_type": "code",
      "source": [],
      "metadata": {
        "id": "uPE29il9cW0g"
      },
      "execution_count": null,
      "outputs": []
    }
  ]
}